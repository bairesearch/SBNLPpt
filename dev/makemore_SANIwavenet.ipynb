{
  "cells": [
    {
      "cell_type": "markdown",
      "metadata": {
        "id": "_mEF05xtbHwp"
      },
      "source": [
        "## makemore SANI wavenet\n",
        "\n",
        "Based on \"makemore: part 5 (building a WaveNet)\":\n",
        "\n",
        "https://colab.research.google.com/drive/1CXVEmCO_7r7WYZGb5qnjfyxTvQa13g5X"
      ]
    },
    {
      "cell_type": "code",
      "source": [
        "#License: MIT"
      ],
      "metadata": {
        "id": "fuVX13FwIyZ3"
      },
      "execution_count": null,
      "outputs": []
    },
    {
      "cell_type": "code",
      "execution_count": null,
      "metadata": {
        "id": "7lDFibCgbHwr"
      },
      "outputs": [],
      "source": [
        "import torch\n",
        "import torch.nn.functional as F\n",
        "import matplotlib.pyplot as plt # for making figures\n",
        "%matplotlib inline"
      ]
    },
    {
      "cell_type": "code",
      "source": [
        "#algorithm selection:\n",
        "algorithmSANIoverloaded = True    #Structure type #2  #pregenerated SANI with wordIndexOverlap\n",
        "algorithmSANIwavenet = False    #Structure type #4  #4a recursiveLayers issue: neurons will not have access to slightly offsetted subnet information\n",
        "algorithmWavenet = False    #orig   #Structure type #3 \n",
        "\n",
        "recursiveLayers = True\n",
        "\n",
        "printVerbose = False\n",
        "\n",
        "if(algorithmSANIwavenet):\n",
        "    layerIndex = 0  #global var as cannot call Sequential layers with optional parameters"
      ],
      "metadata": {
        "id": "hP479j_au1Ig"
      },
      "execution_count": null,
      "outputs": []
    },
    {
      "cell_type": "code",
      "source": [
        "n_embd = 24 # the dimensionality of the character embedding vectors\n",
        "n_hidden = 128 # the number of neurons in the hidden layer of the MLP\n",
        "\n",
        "block_size = 8 # context length: how many characters do we take to predict the next one?\n",
        "\n",
        "batch_size = 32"
      ],
      "metadata": {
        "id": "INawzdSClqf4"
      },
      "execution_count": null,
      "outputs": []
    },
    {
      "cell_type": "code",
      "source": [
        "# download the names.txt file from github\n",
        "!wget https://raw.githubusercontent.com/karpathy/makemore/master/names.txt"
      ],
      "metadata": {
        "id": "htdQCnUPbhS9"
      },
      "execution_count": null,
      "outputs": []
    },
    {
      "cell_type": "code",
      "execution_count": null,
      "metadata": {
        "id": "ylW9Ir3GbHws"
      },
      "outputs": [],
      "source": [
        "# read in all the words\n",
        "words = open('names.txt', 'r').read().splitlines()\n",
        "print(len(words))\n",
        "print(max(len(w) for w in words))\n",
        "print(words[:8])"
      ]
    },
    {
      "cell_type": "code",
      "execution_count": null,
      "metadata": {
        "id": "GPwi-_rEbHwt"
      },
      "outputs": [],
      "source": [
        "# build the vocabulary of characters and mappings to/from integers\n",
        "chars = sorted(list(set(''.join(words))))\n",
        "stoi = {s:i+1 for i,s in enumerate(chars)}\n",
        "stoi['.'] = 0\n",
        "itos = {i:s for s,i in stoi.items()}\n",
        "vocab_size = len(itos)\n",
        "print(itos)\n",
        "print(vocab_size)"
      ]
    },
    {
      "cell_type": "code",
      "execution_count": null,
      "metadata": {
        "id": "j8JdduA3bHwu"
      },
      "outputs": [],
      "source": [
        "# shuffle up the words\n",
        "import random\n",
        "random.seed(42)\n",
        "random.shuffle(words)"
      ]
    },
    {
      "cell_type": "code",
      "execution_count": null,
      "metadata": {
        "id": "kcrfsUG_bHwu"
      },
      "outputs": [],
      "source": [
        "# build the dataset\n",
        "\n",
        "def build_dataset(words):  \n",
        "  X, Y = [], []\n",
        "  \n",
        "  for w in words:\n",
        "    context = [0] * block_size\n",
        "    for ch in w + '.':\n",
        "      ix = stoi[ch]\n",
        "      X.append(context)\n",
        "      Y.append(ix)\n",
        "      context = context[1:] + [ix] # crop and append\n",
        "\n",
        "  X = torch.tensor(X)\n",
        "  Y = torch.tensor(Y)\n",
        "  print(X.shape, Y.shape)\n",
        "  return X, Y\n",
        "\n",
        "n1 = int(0.8*len(words))\n",
        "n2 = int(0.9*len(words))\n",
        "Xtr,  Ytr  = build_dataset(words[:n1])     # 80%\n",
        "Xdev, Ydev = build_dataset(words[n1:n2])   # 10%\n",
        "Xte,  Yte  = build_dataset(words[n2:])     # 10%"
      ]
    },
    {
      "cell_type": "code",
      "execution_count": null,
      "metadata": {
        "id": "9aFDMks6bHwv"
      },
      "outputs": [],
      "source": [
        "for x,y in zip(Xtr[:20], Ytr[:20]):\n",
        "  print(''.join(itos[ix.item()] for ix in x), '-->', itos[y.item()])"
      ]
    },
    {
      "cell_type": "code",
      "execution_count": null,
      "metadata": {
        "id": "-goFZmrabHww"
      },
      "outputs": [],
      "source": [
        "# Near copy paste of the layers we have developed in Part 3\n",
        "\n",
        "# -----------------------------------------------------------------------------------------------\n",
        "class Linear:\n",
        "  \n",
        "  def __init__(self, fan_in, fan_out, bias=True):\n",
        "    self.weight = torch.randn((fan_in, fan_out)) / fan_in**0.5 # note: kaiming init\n",
        "    self.bias = torch.zeros(fan_out) if bias else None\n",
        "  \n",
        "  def __call__(self, x):\n",
        "    self.out = x @ self.weight\n",
        "    if self.bias is not None:\n",
        "      self.out += self.bias\n",
        "    return self.out\n",
        "  \n",
        "  def parameters(self):\n",
        "    return [self.weight] + ([] if self.bias is None else [self.bias])\n",
        "\n",
        "# -----------------------------------------------------------------------------------------------\n",
        "class BatchNorm1d:\n",
        "  \n",
        "  def __init__(self, dim, eps=1e-5, momentum=0.1):\n",
        "    self.eps = eps\n",
        "    self.momentum = momentum\n",
        "    self.training = True\n",
        "    # parameters (trained with backprop)\n",
        "    self.gamma = torch.ones(dim)\n",
        "    self.beta = torch.zeros(dim)\n",
        "    # buffers (trained with a running 'momentum update')\n",
        "    self.running_mean = torch.zeros(dim)\n",
        "    self.running_var = torch.ones(dim)\n",
        "  \n",
        "  def __call__(self, x):\n",
        "    # calculate the forward pass\n",
        "    if self.training:\n",
        "      if x.ndim == 2:\n",
        "        dim = 0\n",
        "      elif x.ndim == 3:\n",
        "        dim = (0,1)\n",
        "      xmean = x.mean(dim, keepdim=True) # batch mean\n",
        "      xvar = x.var(dim, keepdim=True) # batch variance\n",
        "    else:\n",
        "      xmean = self.running_mean\n",
        "      xvar = self.running_var\n",
        "    xhat = (x - xmean) / torch.sqrt(xvar + self.eps) # normalize to unit variance\n",
        "    self.out = self.gamma * xhat + self.beta\n",
        "    # update the buffers\n",
        "    if self.training:\n",
        "      with torch.no_grad():\n",
        "        self.running_mean = (1 - self.momentum) * self.running_mean + self.momentum * xmean\n",
        "        self.running_var = (1 - self.momentum) * self.running_var + self.momentum * xvar\n",
        "    return self.out\n",
        "  \n",
        "  def parameters(self):\n",
        "    return [self.gamma, self.beta]\n",
        "\n",
        "# -----------------------------------------------------------------------------------------------\n",
        "class Tanh:\n",
        "  def __call__(self, x):\n",
        "    self.out = torch.tanh(x)\n",
        "    return self.out\n",
        "  def parameters(self):\n",
        "    return []\n",
        "\n",
        "# -----------------------------------------------------------------------------------------------\n",
        "class Embedding:\n",
        "  \n",
        "  def __init__(self, num_embeddings, embedding_dim):\n",
        "    self.weight = torch.randn((num_embeddings, embedding_dim))\n",
        "    \n",
        "  def __call__(self, IX):\n",
        "    self.out = self.weight[IX]\n",
        "    return self.out\n",
        "  \n",
        "  def parameters(self):\n",
        "    return [self.weight]\n",
        "\n",
        "def interweaveTensors(xOffsetList, dim):    \n",
        "    #dim = dimension to interweave into\n",
        "    #https://stackoverflow.com/questions/60869537/how-can-i-interleave-5-pytorch-tensors\n",
        "    stacked = torch.stack(xOffsetList, dim=dim+1)   #inserts new temporary dimension at dim+1\n",
        "    #print(\"stacked.shape  = \", stacked.shape)\n",
        "    x = torch.flatten(stacked, start_dim=dim, end_dim=dim+1)\n",
        "    return x\n",
        "\n",
        "class takeLastSequentialToken:\n",
        "  def __init__(self):\n",
        "      pass\n",
        "  def __call__(self, x):    #, layerIndex=None\n",
        "    B, T, C = x.shape\n",
        "    if(printVerbose):\n",
        "        print(\"B = \", B)\n",
        "        print(\"T = \", T)\n",
        "        print(\"C = \", C)\n",
        "\n",
        "    takeLast = False\n",
        "    if(algorithmSANIoverloaded):\n",
        "        takeLast = True\n",
        "    elif(algorithmSANIwavenet):\n",
        "        if(recursiveLayers):\n",
        "            takeLast = False \n",
        "        else:\n",
        "            takeLast = True\n",
        "    if(takeLast):\n",
        "        x = x[:, -1, :]  #take last sequential token in layer\n",
        "    else:\n",
        "        #takeAverage of all final layer token values    #CHECKTHIS\n",
        "        x = torch.mean(x, dim=1)\n",
        "\n",
        "    self.out = x\n",
        "    return self.out\n",
        "  \n",
        "  def parameters(self):\n",
        "    return []\n",
        "\n",
        "class FlattenConsecutive:\n",
        "  \n",
        "  def __init__(self, n):\n",
        "    self.n = n\n",
        "    \n",
        "  def __call__(self, x):    #, layerIndex=None\n",
        "    B, T, C = x.shape\n",
        "\n",
        "\t#B = batchSize (eg 32)\n",
        "\t#T = number of characters (eg 8)     #token dimension\n",
        "\t#C = number of vector dimensions (eg 128)\n",
        "    if(printVerbose):\n",
        "        print(\"B = \", B)\n",
        "        print(\"T = \", T)\n",
        "        print(\"C = \", C)\n",
        "\n",
        "    if(algorithmSANIoverloaded):\n",
        "        #Structure type 2\n",
        "        xi1 = x[:, 0:-1, :]\n",
        "        xi2 = x[:, 1:, :]\n",
        "        xiPadding = torch.zeros((B, 1, C)) #CHECKTHIS: currently pad first (or last) section in sequence with zeros \n",
        "        xi1 = torch.concat((xiPadding, xi1), dim=1)   #concat along T dimension\n",
        "        xi2 = torch.concat((xiPadding, xi2), dim=1)   #concat along T dimension\n",
        "        x = torch.concat((xi1, xi2), dim=2)   #cat along C dimension\n",
        "    elif(algorithmSANIwavenet):\n",
        "        #Structure type 4\n",
        "        global layerIndex\n",
        "        if(recursiveLayers):\n",
        "            #Structure type 4a\n",
        "            numberOfOffsets = 2\n",
        "            offsetIncrement = layerIndex*2   #CHECKTHIS: add -1 (makes odd value; computation more complicated)\n",
        "            maxOffset = offsetIncrement\n",
        "        else:\n",
        "            #Structure type 4b\n",
        "            numberOfOffsets = 2**layerIndex   #CHECKTHIS: add -1 (makes odd value; computation more complicated)\n",
        "            offsetIncrement = 1\n",
        "            maxOffset = numberOfOffsets\n",
        "        if(printVerbose):\n",
        "            print(\"\\nlayerIndex = \", layerIndex)\n",
        "            print(\"\\tnumberOfOffsets = \", numberOfOffsets)\n",
        "            print(\"\\toffsetIncrement = \", offsetIncrement)\n",
        "            print(\"\\tmaxOffset = \", maxOffset)\n",
        "\n",
        "        xOffsetList = []\n",
        "        for offsetIndex in range(numberOfOffsets):\n",
        "            offset = offsetIndex*offsetIncrement\n",
        "            if(offsetIndex == 0):\n",
        "                xi = x  #use all tokens in sequence\n",
        "            else:\n",
        "                xi = x[:, 0:-offset, :]\n",
        "                xiPadding = torch.zeros((B, offset, C))\n",
        "                xi = torch.concat((xiPadding, xi), dim=1)   #concat along T dimension\n",
        "            xOffsetList.append(xi)\n",
        "        xOffsetList.reverse()\n",
        "        x = interweaveTensors(xOffsetList, 2)\n",
        "        \n",
        "        layerIndex = layerIndex+1\n",
        "    elif(algorithmWavenet):\n",
        "        #Structure type 3\n",
        "        x = x.view(B, T//self.n, C*self.n)\n",
        "\n",
        "    if x.shape[1] == 1:\n",
        "      x = x.squeeze(1)\n",
        "    self.out = x\n",
        "    return self.out\n",
        "  \n",
        "  def parameters(self):\n",
        "    return []\n",
        "\n",
        "# -----------------------------------------------------------------------------------------------\n",
        "class Sequential:\n",
        "  \n",
        "  def __init__(self, layers):\n",
        "    self.layers = layers\n",
        "  \n",
        "  def __call__(self, x):\n",
        "    if(algorithmSANIwavenet):\n",
        "        global layerIndex\n",
        "        layerIndex = 1\n",
        "    for layer in self.layers:\n",
        "      x = layer(x)\n",
        "    self.out = x\n",
        "    return self.out\n",
        "  \n",
        "  def parameters(self):\n",
        "    # get parameters of all layers and stretch them out into one list\n",
        "    return [p for layer in self.layers for p in layer.parameters()]\n"
      ]
    },
    {
      "cell_type": "code",
      "execution_count": null,
      "metadata": {
        "id": "v01gpFOSbHwx"
      },
      "outputs": [],
      "source": [
        "torch.manual_seed(42); # seed rng for reproducibility"
      ]
    },
    {
      "cell_type": "code",
      "execution_count": null,
      "metadata": {
        "id": "vHMDMtvpbHwx"
      },
      "outputs": [],
      "source": [
        "# original network\n",
        "# n_embd = 10 # the dimensionality of the character embedding vectors\n",
        "# n_hidden = 300 # the number of neurons in the hidden layer of the MLP\n",
        "# model = Sequential([\n",
        "#   Embedding(vocab_size, n_embd),\n",
        "#   FlattenConsecutive(block_size), Linear(n_embd * block_size, n_hidden, bias=False), BatchNorm1d(n_hidden), Tanh(),\n",
        "#   Linear(n_hidden, vocab_size),\n",
        "# ])\n",
        "\n",
        "# hierarchical network\n",
        "\n",
        "def createSANIlayerRecursive(recursiveLayer, n_hidden, layerInputMuliplier):\n",
        "    if(recursiveLayers):\n",
        "        layer = recursiveLayer\n",
        "    else:\n",
        "        layer = createSANIlayer(n_hidden, layerInputMuliplier)\n",
        "    return layer\n",
        "\n",
        "def createSANIlayer(n_hidden, layerInputMuliplier):\n",
        "    layer = Linear(n_hidden*layerInputMuliplier, n_hidden, bias=False)\n",
        "    return layer\n",
        "\n",
        "if(recursiveLayers):\n",
        "    recursiveLayer = createSANIlayer(n_hidden, 2)\n",
        "else:\n",
        "    recursiveLayer = None\n",
        "\n",
        "if(algorithmSANIoverloaded):\n",
        "    #number of SANI layers must equal T (number of tokens in sequence; block_size)    #FUTURE: make dynamic\n",
        "    model = Sequential([\n",
        "    Embedding(vocab_size, n_embd),\n",
        "    Linear(n_embd, n_hidden, bias=False),\n",
        "    FlattenConsecutive(2), createSANIlayerRecursive(recursiveLayer, n_hidden, 2), BatchNorm1d(n_hidden), Tanh(),\n",
        "    FlattenConsecutive(2), createSANIlayerRecursive(recursiveLayer, n_hidden, 2), BatchNorm1d(n_hidden), Tanh(),\n",
        "    FlattenConsecutive(2), createSANIlayerRecursive(recursiveLayer, n_hidden, 2), BatchNorm1d(n_hidden), Tanh(),\n",
        "    FlattenConsecutive(2), createSANIlayerRecursive(recursiveLayer, n_hidden, 2), BatchNorm1d(n_hidden), Tanh(),\n",
        "    FlattenConsecutive(2), createSANIlayerRecursive(recursiveLayer, n_hidden, 2), BatchNorm1d(n_hidden), Tanh(),\n",
        "    FlattenConsecutive(2), createSANIlayerRecursive(recursiveLayer, n_hidden, 2), BatchNorm1d(n_hidden), Tanh(),\n",
        "    FlattenConsecutive(2), createSANIlayerRecursive(recursiveLayer, n_hidden, 2), BatchNorm1d(n_hidden), Tanh(),\n",
        "    FlattenConsecutive(2), createSANIlayerRecursive(recursiveLayer, n_hidden, 2), BatchNorm1d(n_hidden), Tanh(),\n",
        "    takeLastSequentialToken(),\n",
        "    Linear(n_hidden, vocab_size),\n",
        "    ])\n",
        "elif(algorithmSANIwavenet):\n",
        "    #2^number of SANI layers must equal T (number of tokens in sequence; block_size)    #FUTURE: make dynamic\n",
        "    model = Sequential([\n",
        "    Embedding(vocab_size, n_embd),\n",
        "    Linear(n_embd, n_hidden, bias=False),\n",
        "    FlattenConsecutive(2), createSANIlayerRecursive(recursiveLayer, n_hidden, 2), BatchNorm1d(n_hidden), Tanh(),\n",
        "    FlattenConsecutive(2), createSANIlayerRecursive(recursiveLayer, n_hidden, 4), BatchNorm1d(n_hidden), Tanh(),\n",
        "    FlattenConsecutive(2), createSANIlayerRecursive(recursiveLayer, n_hidden, 8), BatchNorm1d(n_hidden), Tanh(),\n",
        "    takeLastSequentialToken(),\n",
        "    Linear(n_hidden, vocab_size),\n",
        "    ])\n",
        "elif(algorithmWavenet):\n",
        "    model = Sequential([\n",
        "    Embedding(vocab_size, n_embd),\n",
        "    #FlattenConsecutive(2), createSANIlayerRecursive(recursiveLayer, n_embd, 2), BatchNorm1d(n_hidden), Tanh(), #orig: no support for recursiveLayers\n",
        "    Linear(n_embd, n_hidden, bias=False),   #new: add support for recursiveLayers\n",
        "    FlattenConsecutive(2), createSANIlayerRecursive(recursiveLayer, n_hidden, 2), BatchNorm1d(n_hidden), Tanh(),    #new: add support for recursiveLayers\n",
        "    FlattenConsecutive(2), createSANIlayerRecursive(recursiveLayer, n_hidden, 2), BatchNorm1d(n_hidden), Tanh(),\n",
        "    FlattenConsecutive(2), createSANIlayerRecursive(recursiveLayer, n_hidden, 2), BatchNorm1d(n_hidden), Tanh(),\n",
        "    Linear(n_hidden, vocab_size),\n",
        "    ])\n",
        "\n",
        "# parameter init\n",
        "with torch.no_grad():\n",
        "  model.layers[-1].weight *= 0.1 # last layer make less confident\n",
        "\n",
        "parameters = model.parameters()\n",
        "print(sum(p.nelement() for p in parameters)) # number of parameters in total\n",
        "for p in parameters:\n",
        "  p.requires_grad = True"
      ]
    },
    {
      "cell_type": "code",
      "source": [
        "#print layer sizes;\n",
        "#for layer in model.layers:\n",
        "#    print(layer.__class__.__name__, ':', tuple(layer.out.shape))"
      ],
      "metadata": {
        "id": "kbWnzmi20qrU"
      },
      "execution_count": null,
      "outputs": []
    },
    {
      "cell_type": "code",
      "execution_count": null,
      "metadata": {
        "id": "Sh9SEATabHwy"
      },
      "outputs": [],
      "source": [
        "# same optimization as last time\n",
        "max_steps = 200000\n",
        "lossi = []\n",
        "\n",
        "for i in range(max_steps):\n",
        "  \n",
        "  # minibatch construct\n",
        "  ix = torch.randint(0, Xtr.shape[0], (batch_size,))\n",
        "  Xb, Yb = Xtr[ix], Ytr[ix] # batch X,Y\n",
        "  \n",
        "  # forward pass\n",
        "  logits = model(Xb)\n",
        "  #print(\"logits.shape = \", logits.shape)\n",
        "  #print(\"Yb.shape = \", Yb.shape)\n",
        "  loss = F.cross_entropy(logits, Yb) # loss function\n",
        "  \n",
        "  # backward pass\n",
        "  for p in parameters:\n",
        "    p.grad = None\n",
        "  loss.backward()\n",
        "  \n",
        "  # update: simple SGD\n",
        "  lr = 0.1 if i < 150000 else 0.01 # step learning rate decay\n",
        "  for p in parameters:\n",
        "    p.data += -lr * p.grad\n",
        "\n",
        "  # track stats\n",
        "  if i % 10000 == 0: # print every once in a while\n",
        "    print(f'{i:7d}/{max_steps:7d}: {loss.item():.4f}')\n",
        "  lossi.append(loss.log10().item())\n"
      ]
    },
    {
      "cell_type": "code",
      "execution_count": null,
      "metadata": {
        "id": "XrOSTEFzbHwz"
      },
      "outputs": [],
      "source": [
        "plt.plot(torch.tensor(lossi).view(-1, 1000).mean(1))"
      ]
    },
    {
      "cell_type": "code",
      "execution_count": null,
      "metadata": {
        "id": "ehknU7xtbHwz"
      },
      "outputs": [],
      "source": [
        "# put layers into eval mode (needed for batchnorm especially)\n",
        "for layer in model.layers:\n",
        "  layer.training = False"
      ]
    },
    {
      "cell_type": "code",
      "execution_count": null,
      "metadata": {
        "id": "5W1wFpKubHwz"
      },
      "outputs": [],
      "source": [
        "# evaluate the loss\n",
        "@torch.no_grad() # this decorator disables gradient tracking inside pytorch\n",
        "def split_loss(split):\n",
        "  x,y = {\n",
        "    'train': (Xtr, Ytr),\n",
        "    'val': (Xdev, Ydev),\n",
        "    'test': (Xte, Yte),\n",
        "  }[split]\n",
        "  logits = model(x)\n",
        "  loss = F.cross_entropy(logits, y)\n",
        "  print(split, loss.item())\n",
        "\n",
        "split_loss('train')\n",
        "split_loss('val')"
      ]
    },
    {
      "cell_type": "markdown",
      "metadata": {
        "id": "yQdB3cZYbHw0"
      },
      "source": [
        "### performance log\n",
        "\n",
        "- original (3 character context + 200 hidden neurons, 12K params): train 2.058, val 2.105\n",
        "- context: 3 -> 8 (22K params): train 1.918, val 2.027\n",
        "- flat -> hierarchical (22K params): train 1.941, val 2.029\n",
        "- fix bug in batchnorm: train 1.912, val 2.022\n",
        "- scale up the network: n_embd 24, n_hidden 128 (76K params): train 1.769, val 1.993\n"
      ]
    },
    {
      "cell_type": "code",
      "execution_count": null,
      "metadata": {
        "id": "CSE5ZEgebHw0"
      },
      "outputs": [],
      "source": [
        "# sample from the model\n",
        "for _ in range(20):\n",
        "    \n",
        "    out = []\n",
        "    context = [0] * block_size # initialize with all ...\n",
        "    while True:\n",
        "      # forward pass the neural net\n",
        "      logits = model(torch.tensor([context]))\n",
        "      probs = F.softmax(logits, dim=1)\n",
        "      # sample from the distribution\n",
        "      ix = torch.multinomial(probs, num_samples=1).item()\n",
        "      # shift the context window and track the samples\n",
        "      context = context[1:] + [ix]\n",
        "      out.append(ix)\n",
        "      # if we sample the special '.' token, break\n",
        "      if ix == 0:\n",
        "        break\n",
        "    \n",
        "    print(''.join(itos[i] for i in out)) # decode and print the generated word"
      ]
    },
    {
      "cell_type": "markdown",
      "metadata": {
        "id": "5w054JOpbHw1"
      },
      "source": [
        "### Next time:\n",
        "Why convolutions? Brief preview/hint"
      ]
    },
    {
      "cell_type": "code",
      "execution_count": null,
      "metadata": {
        "id": "zBP4pbSnbHw1"
      },
      "outputs": [],
      "source": [
        "for x,y in zip(Xtr[7:15], Ytr[7:15]):\n",
        "  print(''.join(itos[ix.item()] for ix in x), '-->', itos[y.item()])"
      ]
    },
    {
      "cell_type": "code",
      "execution_count": null,
      "metadata": {
        "id": "HhUwWXX8bHw2"
      },
      "outputs": [],
      "source": [
        "# forward a single example:\n",
        "logits = model(Xtr[[7]])\n",
        "logits.shape"
      ]
    },
    {
      "cell_type": "code",
      "execution_count": null,
      "metadata": {
        "id": "gBDyYGUWbHw2"
      },
      "outputs": [],
      "source": [
        "# forward all of them\n",
        "logits = torch.zeros(8, 27)\n",
        "for i in range(8):\n",
        "  logits[i] = model(Xtr[[7+i]])\n",
        "logits.shape"
      ]
    },
    {
      "cell_type": "code",
      "execution_count": null,
      "metadata": {
        "id": "PCoo_TvZbHw3"
      },
      "outputs": [],
      "source": [
        "# convolution is a \"for loop\"\n",
        "# allows us to forward Linear layers efficiently over space"
      ]
    }
  ],
  "metadata": {
    "kernelspec": {
      "display_name": "Python 3",
      "language": "python",
      "name": "python3"
    },
    "language_info": {
      "codemirror_mode": {
        "name": "ipython",
        "version": 3
      },
      "file_extension": ".py",
      "mimetype": "text/x-python",
      "name": "python",
      "nbconvert_exporter": "python",
      "pygments_lexer": "ipython3",
      "version": "3.8.5"
    },
    "colab": {
      "provenance": []
    },
    "gpuClass": "standard"
  },
  "nbformat": 4,
  "nbformat_minor": 0
}